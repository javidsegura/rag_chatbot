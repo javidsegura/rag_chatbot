{
 "cells": [
  {
   "cell_type": "code",
   "execution_count": null,
   "metadata": {},
   "outputs": [],
   "source": [
    "import gradio as gr"
   ]
  },
  {
   "cell_type": "code",
   "execution_count": null,
   "metadata": {},
   "outputs": [],
   "source": [
    "import gradio as gr\n",
    "import csv\n",
    "\n",
    "\n",
    "with open(\"/Users/javierdominguezsegura/Programming/Python/Side projects/RAG 4/other/user_feedback/feedback.csv\", \"w\") as file:\n",
    "                 writer = csv.writer(file,delimiter=\",\")\n",
    "                 writer.writerow([0,1,\"User_message\", \"System_message\"])\n",
    "\n",
    "\n",
    "\n",
    "class UISettings:\n",
    "  \n",
    "    @staticmethod\n",
    "    def toggle_sidebar(state):\n",
    "     \n",
    "        state = not state\n",
    "        return gr.update(visible=state), state\n",
    "\n",
    "    @staticmethod\n",
    "    def feedback(data: gr.LikeData):\n",
    "      if data.liked:\n",
    "            print(\"You upvoted this response: \" + f\"'{data.value}'\")\n",
    "            with open(\"/Users/javierdominguezsegura/Programming/Python/Side projects/RAG 4/other/user_feedback/feedback.csv\", \"a\") as file:\n",
    "                 writer = csv.writer(file,delimiter=\",\")\n",
    "                 writer.writerow([1,0,\" \",f\"{data.value}\"])\n",
    "                \n",
    "      else:\n",
    "            print(\"You downvoted this response: \" + f\"'{data.value}'\")\n",
    "            with open(\"/Users/javierdominguezsegura/Programming/Python/Side projects/RAG 4/other/user_feedback/feedback.csv\", \"a\") as file:\n",
    "                 writer = csv.writer(file,delimiter=\",\")\n",
    "                 writer.writerow([0,1,\" \",f\"{data.value}\"])\n"
   ]
  },
  {
   "cell_type": "code",
   "execution_count": null,
   "metadata": {},
   "outputs": [],
   "source": [
    "\n",
    "\n",
    "with gr.Blocks(theme = gr.themes.Base( \n",
    "    primary_hue= \"neutral\",\n",
    "      secondary_hue=\"gray\"\n",
    "\n",
    ")) as demo:\n",
    "    with gr.Tabs():\n",
    "        with gr.TabItem(\"Socrates\"):\n",
    "            ##############\n",
    "            # First ROW:\n",
    "            ##############\n",
    "            with gr.Row() as row_one:\n",
    "                with gr.Column(visible=False) as reference_bar: # Reference panel\n",
    "                    #ref_output = gr.Markdown() # Second alternative\n",
    "                    ref_output = gr.Textbox(\n",
    "                     lines=22,\n",
    "                       max_lines=22,\n",
    "                        interactive=False,\n",
    "                         type=\"text\",\n",
    "                         label=\"References\",\n",
    "                         show_copy_button=True\n",
    "                    )\n",
    "\n",
    "                with gr.Column() as chatbot_output:\n",
    "                    chatbot = gr.Chatbot(\n",
    "                        [],\n",
    "                        elem_id=\"chatbot\",\n",
    "                        bubble_full_width=False,\n",
    "                        height=400,\n",
    "                        container=True,\n",
    "                        show_copy_button=True,\n",
    "                        avatar_images=(\n",
    "                            \"/Users/javierdominguezsegura/Programming/Python/Side projects/RAG 4/other/images/user.png\", # User picture\n",
    "                              \"/Users/javierdominguezsegura/Programming/Python/Side projects/RAG 4/other/images/system.png\"), # LLM picture\n",
    "                        \n",
    "                    )\n",
    "                    # **Adding like/dislike icons\n",
    "                    chatbot.like(UISettings.feedback, None, None)\n",
    "\n",
    "            ##############\n",
    "            # SECOND ROW:\n",
    "            ##############\n",
    "            with gr.Row():\n",
    "                input_txt = gr.Textbox(\n",
    "                    lines=2,\n",
    "                    scale=3,\n",
    "                    placeholder=\"Message Socrates...\",\n",
    "                    container=False,\n",
    "                    autofocus=True,\n",
    "                    autoscroll=True, show_copy_button=True\n",
    "                )\n",
    "\n",
    "            ##############\n",
    "            # Third ROW:\n",
    "            ##############\n",
    "            with gr.Row() as row_two:\n",
    "                #1st button\n",
    "                text_submit_btn = gr.Button(value=\"Submit text\", size = \"sm\", scale = 1)\n",
    "\n",
    "                #2nd button\n",
    "                upload_btn = gr.UploadButton(\n",
    "                    \"Upload files\", file_types=['.pdf'],file_count=\"multiple\", size = \"sm\", scale = 1)\n",
    "\n",
    "                #3rd button\n",
    "                sidebar_state = gr.State(False)\n",
    "                btn_toggle_sidebar = gr.Button(value=\"References\", size = \"sm\", scale=1)\n",
    "                btn_toggle_sidebar.click(UISettings.toggle_sidebar, [sidebar_state], [reference_bar, sidebar_state]) # Activate references when clicking button\n",
    "                \n",
    "                #4th element \n",
    "                rag_with_dropdown = gr.Dropdown(\n",
    "                    label=\"RAG with\", choices=[\"Built-in files\", \"Upload file\", \"Upload file: Summary\"], value=\"Built-in files\")\n",
    "                #5th chat\n",
    "                clear_button = gr.ClearButton([input_txt, chatbot], size=\"sm\", scale = 1, value = \"Clear chat\") #Clear chat\n",
    "\n"
   ]
  },
  {
   "cell_type": "code",
   "execution_count": 7,
   "metadata": {},
   "outputs": [
    {
     "name": "stdout",
     "output_type": "stream",
     "text": [
      "Rerunning server... use `close()` to stop if you need to change `launch()` parameters.\n",
      "----\n",
      "\n",
      "To create a public link, set `share=True` in `launch()`.\n"
     ]
    },
    {
     "data": {
      "text/html": [
       "<div><iframe src=\"http://127.0.0.1:7860/\" width=\"100%\" height=\"500\" allow=\"autoplay; camera; microphone; clipboard-read; clipboard-write;\" frameborder=\"0\" allowfullscreen></iframe></div>"
      ],
      "text/plain": [
       "<IPython.core.display.HTML object>"
      ]
     },
     "metadata": {},
     "output_type": "display_data"
    },
    {
     "data": {
      "text/plain": []
     },
     "execution_count": 7,
     "metadata": {},
     "output_type": "execute_result"
    }
   ],
   "source": [
    "demo.launch()\n"
   ]
  },
  {
   "cell_type": "code",
   "execution_count": 2,
   "metadata": {},
   "outputs": [],
   "source": [
    "import gradio as gr\n",
    "import time\n",
    "from langchain.vectorstores import Chroma\n",
    "from typing import List, Tuple\n",
    "\n",
    "from openai import OpenAI\n",
    "\n",
    "client = OpenAI()"
   ]
  },
  {
   "cell_type": "code",
   "execution_count": 9,
   "metadata": {},
   "outputs": [],
   "source": [
    "template = \" You are a Q&A chatbot\"\n",
    "\n",
    "prompt = \"Give me the capital of USA\"\n",
    "\n",
    "chatbot = list()\n",
    "\n",
    "def f():\n",
    "      response = client.chat.completions.create(\n",
    "                  model=\"gpt-3.5-turbo\",\n",
    "                  messages=[\n",
    "                  {\"role\": \"system\", \"content\": template},\n",
    "                  {\"role\": \"user\", \"content\": prompt}], #In original files prompt includes chat history and retrieved docs\n",
    "                  stream=True, temperature = 0\n",
    "            )\n",
    "      for chunk in response:\n",
    "            if chunk.choices[0].delta.content is not None:\n",
    "                  print(chunk.choices[0].delta.content, end=\"\")\n",
    "\n",
    "      chatbot.append((prompt, content)) # Message is user's query and content is LLM's answer \n",
    "      return \"\", chatbot"
   ]
  },
  {
   "cell_type": "code",
   "execution_count": 10,
   "metadata": {},
   "outputs": [
    {
     "ename": "AttributeError",
     "evalue": "'Stream' object has no attribute 'choices'",
     "output_type": "error",
     "traceback": [
      "\u001b[0;31m---------------------------------------------------------------------------\u001b[0m",
      "\u001b[0;31mAttributeError\u001b[0m                            Traceback (most recent call last)",
      "Cell \u001b[0;32mIn[10], line 1\u001b[0m\n\u001b[0;32m----> 1\u001b[0m z \u001b[38;5;241m=\u001b[39m \u001b[43mf\u001b[49m\u001b[43m(\u001b[49m\u001b[43m)\u001b[49m\n\u001b[1;32m      2\u001b[0m z\n",
      "Cell \u001b[0;32mIn[9], line 15\u001b[0m, in \u001b[0;36mf\u001b[0;34m()\u001b[0m\n\u001b[1;32m      7\u001b[0m \u001b[38;5;28;01mdef\u001b[39;00m \u001b[38;5;21mf\u001b[39m():\n\u001b[1;32m      8\u001b[0m       response \u001b[38;5;241m=\u001b[39m client\u001b[38;5;241m.\u001b[39mchat\u001b[38;5;241m.\u001b[39mcompletions\u001b[38;5;241m.\u001b[39mcreate(\n\u001b[1;32m      9\u001b[0m                   model\u001b[38;5;241m=\u001b[39m\u001b[38;5;124m\"\u001b[39m\u001b[38;5;124mgpt-3.5-turbo\u001b[39m\u001b[38;5;124m\"\u001b[39m,\n\u001b[1;32m     10\u001b[0m                   messages\u001b[38;5;241m=\u001b[39m[\n\u001b[0;32m   (...)\u001b[0m\n\u001b[1;32m     13\u001b[0m                   stream\u001b[38;5;241m=\u001b[39m\u001b[38;5;28;01mTrue\u001b[39;00m, temperature \u001b[38;5;241m=\u001b[39m \u001b[38;5;241m0\u001b[39m\n\u001b[1;32m     14\u001b[0m             )\n\u001b[0;32m---> 15\u001b[0m       choice \u001b[38;5;241m=\u001b[39m \u001b[43mresponse\u001b[49m\u001b[38;5;241;43m.\u001b[39;49m\u001b[43mchoices\u001b[49m[\u001b[38;5;241m0\u001b[39m]\n\u001b[1;32m     16\u001b[0m       _message \u001b[38;5;241m=\u001b[39m choice\u001b[38;5;241m.\u001b[39mprompt\n\u001b[1;32m     17\u001b[0m       content \u001b[38;5;241m=\u001b[39m _message\u001b[38;5;241m.\u001b[39mcontent\n",
      "\u001b[0;31mAttributeError\u001b[0m: 'Stream' object has no attribute 'choices'"
     ]
    }
   ],
   "source": [
    "z = f()\n",
    "z"
   ]
  },
  {
   "cell_type": "code",
   "execution_count": 12,
   "metadata": {},
   "outputs": [],
   "source": [
    "def f():\n",
    "      k = list()\n",
    "      for i in range(10):\n",
    "            k.append(i)\n",
    "            yield i\n",
    "      return k"
   ]
  },
  {
   "cell_type": "code",
   "execution_count": 14,
   "metadata": {},
   "outputs": [
    {
     "name": "stdout",
     "output_type": "stream",
     "text": [
      "<generator object f at 0x1731092a0>\n",
      "<generator object f at 0x1731092a0>\n",
      "<generator object f at 0x1731092a0>\n",
      "<generator object f at 0x1731092a0>\n",
      "<generator object f at 0x1731092a0>\n",
      "<generator object f at 0x1731092a0>\n",
      "<generator object f at 0x1731092a0>\n",
      "<generator object f at 0x1731092a0>\n",
      "<generator object f at 0x1731092a0>\n",
      "<generator object f at 0x1731092a0>\n"
     ]
    }
   ],
   "source": [
    "for i in range(10):\n",
    "      print(f())"
   ]
  }
 ],
 "metadata": {
  "kernelspec": {
   "display_name": ".venv",
   "language": "python",
   "name": "python3"
  },
  "language_info": {
   "codemirror_mode": {
    "name": "ipython",
    "version": 3
   },
   "file_extension": ".py",
   "mimetype": "text/x-python",
   "name": "python",
   "nbconvert_exporter": "python",
   "pygments_lexer": "ipython3",
   "version": "3.11.8"
  }
 },
 "nbformat": 4,
 "nbformat_minor": 2
}
